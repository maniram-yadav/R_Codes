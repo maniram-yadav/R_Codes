{
 "cells": [
  {
   "cell_type": "code",
   "execution_count": 1,
   "metadata": {},
   "outputs": [
    {
     "data": {
      "text/html": [
       "<dl>\n",
       "\t<dt>$title</dt>\n",
       "\t\t<dd>'RSome times'</dd>\n",
       "\t<dt>$duration</dt>\n",
       "\t\t<dd>190</dd>\n",
       "\t<dt>$track</dt>\n",
       "\t\t<dd>5</dd>\n",
       "\t<dt>$similar</dt>\n",
       "\t\t<dd><dl>\n",
       "\t<dt>$title</dt>\n",
       "\t\t<dd>'R u on time ?'</dd>\n",
       "\t<dt>$duration</dt>\n",
       "\t\t<dd>220</dd>\n",
       "</dl>\n",
       "</dd>\n",
       "</dl>\n"
      ],
      "text/latex": [
       "\\begin{description}\n",
       "\\item[\\$title] 'RSome times'\n",
       "\\item[\\$duration] 190\n",
       "\\item[\\$track] 5\n",
       "\\item[\\$similar] \\begin{description}\n",
       "\\item[\\$title] 'R u on time ?'\n",
       "\\item[\\$duration] 220\n",
       "\\end{description}\n",
       "\n",
       "\\end{description}\n"
      ],
      "text/markdown": [
       "$title\n",
       ":   'RSome times'\n",
       "$duration\n",
       ":   190\n",
       "$track\n",
       ":   5\n",
       "$similar\n",
       ":   $title\n",
       ":   'R u on time ?'\n",
       "$duration\n",
       ":   220\n",
       "\n",
       "\n",
       "\n",
       "\n",
       "\n"
      ],
      "text/plain": [
       "$title\n",
       "[1] \"RSome times\"\n",
       "\n",
       "$duration\n",
       "[1] 190\n",
       "\n",
       "$track\n",
       "[1] 5\n",
       "\n",
       "$similar\n",
       "$similar$title\n",
       "[1] \"R u on time ?\"\n",
       "\n",
       "$similar$duration\n",
       "[1] 220\n",
       "\n"
      ]
     },
     "metadata": {},
     "output_type": "display_data"
    }
   ],
   "source": [
    "song_1 <- list(title = \"R u on time ?\",duration=220)\n",
    "song_2 <- list(title = \"RSome times\",duration = 190,track =5,similar = song_1)\n",
    "song_2"
   ]
  },
  {
   "cell_type": "code",
   "execution_count": 3,
   "metadata": {},
   "outputs": [
    {
     "data": {
      "text/html": [
       "'RSome times'"
      ],
      "text/latex": [
       "'RSome times'"
      ],
      "text/markdown": [
       "'RSome times'"
      ],
      "text/plain": [
       "[1] \"RSome times\""
      ]
     },
     "metadata": {},
     "output_type": "display_data"
    }
   ],
   "source": [
    "song_2[[1]]"
   ]
  },
  {
   "cell_type": "code",
   "execution_count": 7,
   "metadata": {},
   "outputs": [
    {
     "data": {
      "text/html": [
       "220"
      ],
      "text/latex": [
       "220"
      ],
      "text/markdown": [
       "220"
      ],
      "text/plain": [
       "[1] 220"
      ]
     },
     "metadata": {},
     "output_type": "display_data"
    },
    {
     "data": {
      "text/html": [
       "'R u on time ?'"
      ],
      "text/latex": [
       "'R u on time ?'"
      ],
      "text/markdown": [
       "'R u on time ?'"
      ],
      "text/plain": [
       "[1] \"R u on time ?\""
      ]
     },
     "metadata": {},
     "output_type": "display_data"
    }
   ],
   "source": [
    "song_2[[4]][[2]]\n",
    "song_2[[c(4,1)]]"
   ]
  },
  {
   "cell_type": "code",
   "execution_count": 8,
   "metadata": {},
   "outputs": [
    {
     "data": {
      "text/html": [
       "<strong>$title</strong> = 'RSome times'"
      ],
      "text/latex": [
       "\\textbf{\\$title} = 'RSome times'"
      ],
      "text/markdown": [
       "**$title** = 'RSome times'"
      ],
      "text/plain": [
       "$title\n",
       "[1] \"RSome times\"\n"
      ]
     },
     "metadata": {},
     "output_type": "display_data"
    }
   ],
   "source": [
    "song_2[\"title\"]"
   ]
  },
  {
   "cell_type": "code",
   "execution_count": 9,
   "metadata": {},
   "outputs": [
    {
     "data": {
      "text/html": [
       "'RSome times'"
      ],
      "text/latex": [
       "'RSome times'"
      ],
      "text/markdown": [
       "'RSome times'"
      ],
      "text/plain": [
       "[1] \"RSome times\""
      ]
     },
     "metadata": {},
     "output_type": "display_data"
    }
   ],
   "source": [
    "song_2$title"
   ]
  },
  {
   "cell_type": "code",
   "execution_count": 10,
   "metadata": {},
   "outputs": [
    {
     "data": {
      "text/html": [
       "<dl>\n",
       "\t<dt>$title</dt>\n",
       "\t\t<dd>'R u on time ?'</dd>\n",
       "\t<dt>$duration</dt>\n",
       "\t\t<dd>220</dd>\n",
       "</dl>\n"
      ],
      "text/latex": [
       "\\begin{description}\n",
       "\\item[\\$title] 'R u on time ?'\n",
       "\\item[\\$duration] 220\n",
       "\\end{description}\n"
      ],
      "text/markdown": [
       "$title\n",
       ":   'R u on time ?'\n",
       "$duration\n",
       ":   220\n",
       "\n",
       "\n"
      ],
      "text/plain": [
       "$title\n",
       "[1] \"R u on time ?\"\n",
       "\n",
       "$duration\n",
       "[1] 220\n"
      ]
     },
     "metadata": {},
     "output_type": "display_data"
    }
   ],
   "source": [
    "song_2$similar"
   ]
  },
  {
   "cell_type": "code",
   "execution_count": 11,
   "metadata": {},
   "outputs": [
    {
     "data": {
      "text/html": [
       "<dl>\n",
       "\t<dt>$title</dt>\n",
       "\t\t<dd>'RSome times'</dd>\n",
       "\t<dt>$duration</dt>\n",
       "\t\t<dd>190</dd>\n",
       "\t<dt>$track</dt>\n",
       "\t\t<dd>5</dd>\n",
       "\t<dt>$similar</dt>\n",
       "\t\t<dd><dl>\n",
       "\t<dt>$title</dt>\n",
       "\t\t<dd>'R u on time ?'</dd>\n",
       "\t<dt>$duration</dt>\n",
       "\t\t<dd>220</dd>\n",
       "</dl>\n",
       "</dd>\n",
       "\t<dt>$sent</dt>\n",
       "\t\t<dd><ol class=list-inline>\n",
       "\t<li>'kurt'</li>\n",
       "\t<li>'Florence'</li>\n",
       "\t<li>'Patti'</li>\n",
       "\t<li>'Dave'</li>\n",
       "</ol>\n",
       "</dd>\n",
       "</dl>\n"
      ],
      "text/latex": [
       "\\begin{description}\n",
       "\\item[\\$title] 'RSome times'\n",
       "\\item[\\$duration] 190\n",
       "\\item[\\$track] 5\n",
       "\\item[\\$similar] \\begin{description}\n",
       "\\item[\\$title] 'R u on time ?'\n",
       "\\item[\\$duration] 220\n",
       "\\end{description}\n",
       "\n",
       "\\item[\\$sent] \\begin{enumerate*}\n",
       "\\item 'kurt'\n",
       "\\item 'Florence'\n",
       "\\item 'Patti'\n",
       "\\item 'Dave'\n",
       "\\end{enumerate*}\n",
       "\n",
       "\\end{description}\n"
      ],
      "text/markdown": [
       "$title\n",
       ":   'RSome times'\n",
       "$duration\n",
       ":   190\n",
       "$track\n",
       ":   5\n",
       "$similar\n",
       ":   $title\n",
       ":   'R u on time ?'\n",
       "$duration\n",
       ":   220\n",
       "\n",
       "\n",
       "\n",
       "$sent\n",
       ":   1. 'kurt'\n",
       "2. 'Florence'\n",
       "3. 'Patti'\n",
       "4. 'Dave'\n",
       "\n",
       "\n",
       "\n",
       "\n",
       "\n"
      ],
      "text/plain": [
       "$title\n",
       "[1] \"RSome times\"\n",
       "\n",
       "$duration\n",
       "[1] 190\n",
       "\n",
       "$track\n",
       "[1] 5\n",
       "\n",
       "$similar\n",
       "$similar$title\n",
       "[1] \"R u on time ?\"\n",
       "\n",
       "$similar$duration\n",
       "[1] 220\n",
       "\n",
       "\n",
       "$sent\n",
       "[1] \"kurt\"     \"Florence\" \"Patti\"    \"Dave\"    \n"
      ]
     },
     "metadata": {},
     "output_type": "display_data"
    }
   ],
   "source": [
    "friends <- c(\"kurt\",\"Florence\",\"Patti\",\"Dave\")\n",
    "song_2$sent <- friends\n",
    "song_2"
   ]
  },
  {
   "cell_type": "code",
   "execution_count": 13,
   "metadata": {},
   "outputs": [
    {
     "data": {
      "text/html": [
       "<strong>$title</strong> = 'RSome times'"
      ],
      "text/latex": [
       "\\textbf{\\$title} = 'RSome times'"
      ],
      "text/markdown": [
       "**$title** = 'RSome times'"
      ],
      "text/plain": [
       "$title\n",
       "[1] \"RSome times\"\n"
      ]
     },
     "metadata": {},
     "output_type": "display_data"
    }
   ],
   "source": [
    "song_2[\"title\"]"
   ]
  },
  {
   "cell_type": "code",
   "execution_count": null,
   "metadata": {
    "collapsed": true
   },
   "outputs": [],
   "source": []
  }
 ],
 "metadata": {
  "kernelspec": {
   "display_name": "R",
   "language": "R",
   "name": "ir"
  },
  "language_info": {
   "codemirror_mode": "r",
   "file_extension": ".r",
   "mimetype": "text/x-r-source",
   "name": "R",
   "pygments_lexer": "r",
   "version": "3.4.2"
  }
 },
 "nbformat": 4,
 "nbformat_minor": 2
}
