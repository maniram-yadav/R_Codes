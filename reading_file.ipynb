{
 "cells": [
  {
   "cell_type": "code",
   "execution_count": 1,
   "metadata": {},
   "outputs": [
    {
     "name": "stdout",
     "output_type": "stream",
     "text": [
      "[1] \"/home/maniram/bdr\"\n",
      "[1] \"/home/maniram/data\"\n"
     ]
    }
   ],
   "source": [
    "print(getwd())\n",
    "setwd(\"/home/maniram/data/\")\n",
    "print(getwd())"
   ]
  },
  {
   "cell_type": "code",
   "execution_count": 3,
   "metadata": {},
   "outputs": [],
   "source": [
    "datas <- read.csv(\"bank.csv\")"
   ]
  },
  {
   "cell_type": "code",
   "execution_count": 15,
   "metadata": {},
   "outputs": [
    {
     "name": "stdout",
     "output_type": "stream",
     "text": [
      "[1] 98\n",
      "[1] 7945\n",
      "[1] 21\n"
     ]
    }
   ],
   "source": [
    "#print(datas)\n",
    "maxsal = max(datas$age)\n",
    "print(maxsal)\n",
    "\n",
    "print(nrow(datas))\n",
    "print(ncol(datas))\n",
    "\n",
    "#salset  <- subset(datas,age= maxsal)\n",
    "#print(salset)"
   ]
  },
  {
   "cell_type": "code",
   "execution_count": 19,
   "metadata": {},
   "outputs": [],
   "source": [
    "age55 <- subset(datas,age=55)\n",
    "# Create data for the graph.\n"
   ]
  },
  {
   "cell_type": "code",
   "execution_count": 22,
   "metadata": {},
   "outputs": [
    {
     "data": {
      "text/html": [
       "<strong>png:</strong> 2"
      ],
      "text/latex": [
       "\\textbf{png:} 2"
      ],
      "text/markdown": [
       "**png:** 2"
      ],
      "text/plain": [
       "png \n",
       "  2 "
      ]
     },
     "metadata": {},
     "output_type": "display_data"
    }
   ],
   "source": [
    "x <- c(21, 62, 10, 53)\n",
    "labels <- c(\"London\", \"New York\", \"Singapore\", \"Mumbai\")\n",
    "\n",
    "# Give the chart file a name.\n",
    "png(file = \"city.jpeg\")\n",
    "\n",
    "# Plot the chart.\n",
    "pie(x,labels)\n",
    "\n",
    "# Save the file.\n",
    "dev.off()"
   ]
  },
  {
   "cell_type": "code",
   "execution_count": null,
   "metadata": {
    "collapsed": true
   },
   "outputs": [],
   "source": []
  }
 ],
 "metadata": {
  "kernelspec": {
   "display_name": "R",
   "language": "R",
   "name": "ir"
  },
  "language_info": {
   "codemirror_mode": "r",
   "file_extension": ".r",
   "mimetype": "text/x-r-source",
   "name": "R",
   "pygments_lexer": "r",
   "version": "3.4.2"
  }
 },
 "nbformat": 4,
 "nbformat_minor": 2
}
