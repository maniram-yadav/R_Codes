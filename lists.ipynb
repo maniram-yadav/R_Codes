{
 "cells": [
  {
   "cell_type": "code",
   "execution_count": 3,
   "metadata": {},
   "outputs": [],
   "source": [
    "lst <- list('A','B',c(1,2,3,4),matrix(sample(1:15,12),nrow=3))"
   ]
  },
  {
   "cell_type": "code",
   "execution_count": 7,
   "metadata": {},
   "outputs": [
    {
     "data": {
      "text/html": [
       "<ol>\n",
       "\t<li><ol class=list-inline>\n",
       "\t<li>1</li>\n",
       "\t<li>2</li>\n",
       "\t<li>3</li>\n",
       "\t<li>4</li>\n",
       "</ol>\n",
       "</li>\n",
       "</ol>\n"
      ],
      "text/latex": [
       "\\begin{enumerate}\n",
       "\\item \\begin{enumerate*}\n",
       "\\item 1\n",
       "\\item 2\n",
       "\\item 3\n",
       "\\item 4\n",
       "\\end{enumerate*}\n",
       "\n",
       "\\end{enumerate}\n"
      ],
      "text/markdown": [
       "1. 1. 1\n",
       "2. 2\n",
       "3. 3\n",
       "4. 4\n",
       "\n",
       "\n",
       "\n",
       "\n",
       "\n"
      ],
      "text/plain": [
       "[[1]]\n",
       "[1] 1 2 3 4\n"
      ]
     },
     "metadata": {},
     "output_type": "display_data"
    },
    {
     "data": {
      "text/html": [
       "<ol>\n",
       "\t<li><table>\n",
       "<tbody>\n",
       "\t<tr><td> 6</td><td>12</td><td> 5</td><td> 2</td></tr>\n",
       "\t<tr><td> 1</td><td> 8</td><td> 7</td><td> 9</td></tr>\n",
       "\t<tr><td>14</td><td>13</td><td>15</td><td>11</td></tr>\n",
       "</tbody>\n",
       "</table>\n",
       "</li>\n",
       "</ol>\n"
      ],
      "text/latex": [
       "\\begin{enumerate}\n",
       "\\item \\begin{tabular}{llll}\n",
       "\t  6 & 12 &  5 &  2\\\\\n",
       "\t  1 &  8 &  7 &  9\\\\\n",
       "\t 14 & 13 & 15 & 11\\\\\n",
       "\\end{tabular}\n",
       "\n",
       "\\end{enumerate}\n"
      ],
      "text/markdown": [
       "1. \n",
       "|  6 | 12 |  5 |  2 | \n",
       "|  1 |  8 |  7 |  9 | \n",
       "| 14 | 13 | 15 | 11 | \n",
       "\n",
       "\n",
       "\n",
       "\n",
       "\n"
      ],
      "text/plain": [
       "[[1]]\n",
       "     [,1] [,2] [,3] [,4]\n",
       "[1,]    6   12    5    2\n",
       "[2,]    1    8    7    9\n",
       "[3,]   14   13   15   11\n"
      ]
     },
     "metadata": {},
     "output_type": "display_data"
    },
    {
     "data": {
      "text/html": [
       "'list'"
      ],
      "text/latex": [
       "'list'"
      ],
      "text/markdown": [
       "'list'"
      ],
      "text/plain": [
       "[1] \"list\""
      ]
     },
     "metadata": {},
     "output_type": "display_data"
    }
   ],
   "source": [
    "lst[3]\n",
    "lst[4]\n",
    "class(lst)"
   ]
  },
  {
   "cell_type": "code",
   "execution_count": 15,
   "metadata": {},
   "outputs": [
    {
     "data": {
      "text/html": [
       "<dl>\n",
       "\t<dt>$Name</dt>\n",
       "\t\t<dd>'Maniram Yadav'</dd>\n",
       "\t<dt>$Age</dt>\n",
       "\t\t<dd>22</dd>\n",
       "\t<dt>$DOb</dt>\n",
       "\t\t<dd>'10/10/1996'</dd>\n",
       "</dl>\n"
      ],
      "text/latex": [
       "\\begin{description}\n",
       "\\item[\\$Name] 'Maniram Yadav'\n",
       "\\item[\\$Age] 22\n",
       "\\item[\\$DOb] '10/10/1996'\n",
       "\\end{description}\n"
      ],
      "text/markdown": [
       "$Name\n",
       ":   'Maniram Yadav'\n",
       "$Age\n",
       ":   22\n",
       "$DOb\n",
       ":   '10/10/1996'\n",
       "\n",
       "\n"
      ],
      "text/plain": [
       "$Name\n",
       "[1] \"Maniram Yadav\"\n",
       "\n",
       "$Age\n",
       "[1] 22\n",
       "\n",
       "$DOb\n",
       "[1] \"10/10/1996\"\n"
      ]
     },
     "metadata": {},
     "output_type": "display_data"
    }
   ],
   "source": [
    "lst <- list(\"Maniram Yadav\",22,\"10/10/1996\")\n",
    "names(lst)<- c(\"Name\",\"Age\",\"DOb\")\n",
    "lst"
   ]
  },
  {
   "cell_type": "code",
   "execution_count": 16,
   "metadata": {},
   "outputs": [
    {
     "name": "stdout",
     "output_type": "stream",
     "text": [
      "List of 3\n",
      " $ Name: chr \"Maniram Yadav\"\n",
      " $ Age : num 22\n",
      " $ DOb : chr \"10/10/1996\"\n"
     ]
    }
   ],
   "source": [
    "str(lst)"
   ]
  },
  {
   "cell_type": "code",
   "execution_count": null,
   "metadata": {
    "collapsed": true
   },
   "outputs": [],
   "source": []
  }
 ],
 "metadata": {
  "kernelspec": {
   "display_name": "R",
   "language": "R",
   "name": "ir"
  },
  "language_info": {
   "codemirror_mode": "r",
   "file_extension": ".r",
   "mimetype": "text/x-r-source",
   "name": "R",
   "pygments_lexer": "r",
   "version": "3.4.2"
  }
 },
 "nbformat": 4,
 "nbformat_minor": 2
}
