{
 "cells": [
  {
   "cell_type": "code",
   "execution_count": 1,
   "metadata": {
    "collapsed": true
   },
   "outputs": [],
   "source": [
    "arr <- c(\"helo\",4,9,\"Mani\")"
   ]
  },
  {
   "cell_type": "code",
   "execution_count": 6,
   "metadata": {},
   "outputs": [
    {
     "name": "stdout",
     "output_type": "stream",
     "text": [
      "[1] \"helo\" \"4\"    \"9\"    \"Mani\"\n"
     ]
    }
   ],
   "source": [
    "print(arr)\n",
    "x <- list(2,3,4)"
   ]
  },
  {
   "cell_type": "markdown",
   "metadata": {},
   "source": [
    "\n",
    "# R Comments"
   ]
  },
  {
   "cell_type": "code",
   "execution_count": 17,
   "metadata": {},
   "outputs": [
    {
     "data": {
      "text/html": [
       "'Hello R'"
      ],
      "text/latex": [
       "'Hello R'"
      ],
      "text/markdown": [
       "'Hello R'"
      ],
      "text/plain": [
       "[1] \"Hello R\""
      ]
     },
     "metadata": {},
     "output_type": "display_data"
    }
   ],
   "source": [
    "if(FALSE){\n",
    "    \"This is \n",
    "multi line comments in R \n",
    "Program,ming language\"\n",
    "}\n",
    "mystr<-\"Hello R\"\n",
    "mystr"
   ]
  },
  {
   "cell_type": "code",
   "execution_count": 18,
   "metadata": {},
   "outputs": [
    {
     "name": "stdout",
     "output_type": "stream",
     "text": [
      "[1] \"red\"   \"Blue\"  \"Black\" \"red\"   \"Blue\" \n",
      "[[1]]\n",
      "[1] 34\n",
      "\n",
      "[[2]]\n",
      "[1] 56\n",
      "\n",
      "[[3]]\n",
      "[1] 78\n",
      "\n",
      ", , 1\n",
      "\n",
      "     [,1]\n",
      "[1,]    2\n",
      "[2,]    3\n",
      "\n",
      ", , 2\n",
      "\n",
      "     [,1]\n",
      "[1,]    4\n",
      "[2,]    5\n",
      "\n",
      ", , 3\n",
      "\n",
      "     [,1]\n",
      "[1,]    5\n",
      "[2,]  345\n",
      "\n",
      "     [,1] [,2] [,3] [,4]\n",
      "[1,] \"1\"  \"b\"  \"c\"  \"d\" \n",
      "[2,] \"e\"  \"f\"  \"g\"  \"r\" \n",
      "[1] red   Blue  Black red   Blue \n",
      "Levels: Black Blue red\n",
      "[1] 3\n",
      "  gender married age\n",
      "1   Male       1  23\n",
      "2 Female       2  45\n",
      "3   Male       3  76\n",
      "4 Female       3  90\n",
      "[1] \"arr\"    \"df\"     \"factrs\" \"lst\"    \"mat\"    \"mystr\"  \"vect\"  \n"
     ]
    },
    {
     "data": {
      "text/html": [
       "<ol class=list-inline>\n",
       "\t<li>'df'</li>\n",
       "\t<li>'factrs'</li>\n",
       "</ol>\n"
      ],
      "text/latex": [
       "\\begin{enumerate*}\n",
       "\\item 'df'\n",
       "\\item 'factrs'\n",
       "\\end{enumerate*}\n"
      ],
      "text/markdown": [
       "1. 'df'\n",
       "2. 'factrs'\n",
       "\n",
       "\n"
      ],
      "text/plain": [
       "[1] \"df\"     \"factrs\""
      ]
     },
     "metadata": {},
     "output_type": "display_data"
    },
    {
     "name": "stdout",
     "output_type": "stream",
     "text": [
      "[1] \"arr\"    \"factrs\" \"lst\"    \"mat\"    \"mystr\"  \"vect\"  \n",
      "character(0)\n"
     ]
    }
   ],
   "source": [
    "vect<- c(\"red\",'Blue',\"Black\",'red','Blue')\n",
    "lst <- list(34,56,78)\n",
    "arr <- array(c(2,3,4,5,5,345),dim=c(2,1,3))\n",
    "mat<-matrix(c('1','b','c','d','e','f','g','r'),nrow=2,ncol=4,byrow=TRUE)\n",
    "factrs <- factor(vect)\n",
    "df<- data.frame(\n",
    "     gender=c(\"Male\",\"Female\"),\n",
    "     married=c(1,2,3,3),\n",
    "     age=c(23,45,76,90)\n",
    ")\n",
    "\n",
    "print(vect)\n",
    "print(lst)\n",
    "print(arr)\n",
    "print(mat)\n",
    "print(factrs)\n",
    "print(nlevels(factrs))\n",
    "print(df)\n",
    "print(ls())\n",
    "ls(pattern=\"f\")\n",
    "rm(df)\n",
    "print(ls())\n",
    "rm(list=ls())\n",
    "print(ls())"
   ]
  },
  {
   "cell_type": "markdown",
   "metadata": {},
   "source": [
    "# Operators"
   ]
  },
  {
   "cell_type": "code",
   "execution_count": 21,
   "metadata": {},
   "outputs": [
    {
     "name": "stdout",
     "output_type": "stream",
     "text": [
      "[1] 1.0 2.0 0.0 2.5\n",
      "[1] 0 0 2 1\n",
      "     [,1]\n",
      "[1,] 36.5\n",
      "[1]   1.000  32.000  16.000 166.375\n",
      "[1] FALSE FALSE FALSE FALSE\n",
      "[1] TRUE TRUE TRUE TRUE\n",
      "[1]  TRUE  TRUE FALSE FALSE\n",
      "[1] FALSE FALSE  TRUE  TRUE\n",
      " [1]  1  2  3  4  5  6  7  8  9 10\n",
      "[1] TRUE\n"
     ]
    }
   ],
   "source": [
    "v1 <- c(1,2,4,5.5)\n",
    "v2 <- c(2,5,2,3)\n",
    "\n",
    "print(v1%%v2)\n",
    "print(v1%/%v2)\n",
    "print(v1%*%v2)\n",
    "print(v1^v2)\n",
    "print(v1==v2)\n",
    "print(v1!=v2)\n",
    "print(v1<v2)\n",
    "print(v1>v2)\n",
    "\n",
    "\n",
    "v3 <<- 1:10\n",
    "print(v3)\n",
    "print(1%in%v3)\n"
   ]
  },
  {
   "cell_type": "markdown",
   "metadata": {},
   "source": [
    "# Looping"
   ]
  },
  {
   "cell_type": "code",
   "execution_count": 26,
   "metadata": {},
   "outputs": [
    {
     "name": "stdout",
     "output_type": "stream",
     "text": [
      "[1] 1\n",
      "[1] 2\n",
      "[1] 3\n",
      "[1] 4\n",
      "[1] 5\n",
      "[1] 6\n",
      "[1] 7\n",
      "[1] 8\n",
      "[1] 9\n",
      "[1] 10\n",
      "[1] \"Hello world\"\n",
      "[1] \"Hello world\"\n",
      "[1] \"Hello world\"\n",
      "[1] 4\n",
      "[1] 5\n",
      "[1] 6\n",
      "[1] 7\n"
     ]
    }
   ],
   "source": [
    "rm(list=ls())\n",
    "1:10 -> v1\n",
    "for(i in v1){\n",
    "    print(i)\n",
    "}\n",
    "\n",
    "1 ->> cnt\n",
    "st <<- \"Hello world\"\n",
    "repeat{\n",
    "    print(st)\n",
    "    cnt <- cnt+1\n",
    "    if(cnt == 4)\n",
    "      break\n",
    "}\n",
    "    \n",
    "    \n",
    "    while(cnt < 8){\n",
    "        print(cnt)\n",
    "        cnt <- cnt+1\n",
    "    }\n",
    "    "
   ]
  },
  {
   "cell_type": "markdown",
   "metadata": {},
   "source": [
    "# Functions"
   ]
  },
  {
   "cell_type": "code",
   "execution_count": 28,
   "metadata": {},
   "outputs": [
    {
     "name": "stdout",
     "output_type": "stream",
     "text": [
      "[1] 1 2 3 4 5 6\n",
      "[1] 12.5\n",
      "[1] 75\n",
      "[1] 1\n",
      "[1] 2\n",
      "[1] 3\n",
      "[1] 4\n",
      "[1] 9\n",
      "[1] 49\n"
     ]
    }
   ],
   "source": [
    "print(seq(10:15))\n",
    "print(mean(10:15))\n",
    "print(sum(10:15))\n",
    "\n",
    "new.function <- function(){\n",
    "    for(i in 1:4)\n",
    "        {\n",
    "        print(i)\n",
    "    }\n",
    "}\n",
    "\n",
    "\n",
    "new.function2 <- function(a=3,b=2){\n",
    "    print(a^b)\n",
    "}\n",
    "\n",
    "new.function()\n",
    "new.function2()\n",
    "new.function2(7)"
   ]
  },
  {
   "cell_type": "code",
   "execution_count": null,
   "metadata": {
    "collapsed": true
   },
   "outputs": [],
   "source": []
  }
 ],
 "metadata": {
  "kernelspec": {
   "display_name": "R",
   "language": "R",
   "name": "ir"
  },
  "language_info": {
   "codemirror_mode": "r",
   "file_extension": ".r",
   "mimetype": "text/x-r-source",
   "name": "R",
   "pygments_lexer": "r",
   "version": "3.4.2"
  }
 },
 "nbformat": 4,
 "nbformat_minor": 2
}
