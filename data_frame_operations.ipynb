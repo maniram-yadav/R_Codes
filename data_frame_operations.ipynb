{
 "cells": [
  {
   "cell_type": "code",
   "execution_count": 1,
   "metadata": {},
   "outputs": [
    {
     "data": {
      "text/html": [
       "<table>\n",
       "<thead><tr><th scope=col>name</th><th scope=col>age</th><th scope=col>child</th></tr></thead>\n",
       "<tbody>\n",
       "\t<tr><td>Amir </td><td>12   </td><td>FALSE</td></tr>\n",
       "\t<tr><td>Ravi </td><td>34   </td><td> TRUE</td></tr>\n",
       "\t<tr><td>Ankur</td><td>54   </td><td>FALSE</td></tr>\n",
       "\t<tr><td>Shyam</td><td>34   </td><td> TRUE</td></tr>\n",
       "\t<tr><td>Mohit</td><td>56   </td><td>FALSE</td></tr>\n",
       "</tbody>\n",
       "</table>\n"
      ],
      "text/latex": [
       "\\begin{tabular}{r|lll}\n",
       " name & age & child\\\\\n",
       "\\hline\n",
       "\t Amir  & 12    & FALSE\\\\\n",
       "\t Ravi  & 34    &  TRUE\\\\\n",
       "\t Ankur & 54    & FALSE\\\\\n",
       "\t Shyam & 34    &  TRUE\\\\\n",
       "\t Mohit & 56    & FALSE\\\\\n",
       "\\end{tabular}\n"
      ],
      "text/markdown": [
       "\n",
       "name | age | child | \n",
       "|---|---|---|---|---|\n",
       "| Amir  | 12    | FALSE | \n",
       "| Ravi  | 34    |  TRUE | \n",
       "| Ankur | 54    | FALSE | \n",
       "| Shyam | 34    |  TRUE | \n",
       "| Mohit | 56    | FALSE | \n",
       "\n",
       "\n"
      ],
      "text/plain": [
       "  name  age child\n",
       "1 Amir  12  FALSE\n",
       "2 Ravi  34   TRUE\n",
       "3 Ankur 54  FALSE\n",
       "4 Shyam 34   TRUE\n",
       "5 Mohit 56  FALSE"
      ]
     },
     "metadata": {},
     "output_type": "display_data"
    }
   ],
   "source": [
    "name <- c (\"Amir\",\"Ravi\",\"Ankur\",\"Shyam\",\"Mohit\")\n",
    "age <- c(12,34,54,34,56)\n",
    "child <- c(FALSE,TRUE,FALSE,TRUE,FALSE)\n",
    "\n",
    "df1 <- data.frame(name,age,child,stringsAsFactors = FALSE)\n",
    "df1"
   ]
  },
  {
   "cell_type": "code",
   "execution_count": 6,
   "metadata": {},
   "outputs": [
    {
     "data": {
      "text/html": [
       "12"
      ],
      "text/latex": [
       "12"
      ],
      "text/markdown": [
       "12"
      ],
      "text/plain": [
       "[1] 12"
      ]
     },
     "metadata": {},
     "output_type": "display_data"
    }
   ],
   "source": [
    "df1[1,2]"
   ]
  },
  {
   "cell_type": "code",
   "execution_count": 7,
   "metadata": {},
   "outputs": [
    {
     "data": {
      "text/html": [
       "<table>\n",
       "<thead><tr><th></th><th scope=col>name</th><th scope=col>age</th><th scope=col>child</th></tr></thead>\n",
       "<tbody>\n",
       "\t<tr><th scope=row>3</th><td>Ankur</td><td>54   </td><td>FALSE</td></tr>\n",
       "</tbody>\n",
       "</table>\n"
      ],
      "text/latex": [
       "\\begin{tabular}{r|lll}\n",
       "  & name & age & child\\\\\n",
       "\\hline\n",
       "\t3 & Ankur & 54    & FALSE\\\\\n",
       "\\end{tabular}\n"
      ],
      "text/markdown": [
       "\n",
       "| <!--/--> | name | age | child | \n",
       "|---|\n",
       "| 3 | Ankur | 54    | FALSE | \n",
       "\n",
       "\n"
      ],
      "text/plain": [
       "  name  age child\n",
       "3 Ankur 54  FALSE"
      ]
     },
     "metadata": {},
     "output_type": "display_data"
    }
   ],
   "source": [
    "df1[3,]"
   ]
  },
  {
   "cell_type": "code",
   "execution_count": 8,
   "metadata": {},
   "outputs": [
    {
     "data": {
      "text/html": [
       "<ol class=list-inline>\n",
       "\t<li>12</li>\n",
       "\t<li>34</li>\n",
       "\t<li>54</li>\n",
       "\t<li>34</li>\n",
       "\t<li>56</li>\n",
       "</ol>\n"
      ],
      "text/latex": [
       "\\begin{enumerate*}\n",
       "\\item 12\n",
       "\\item 34\n",
       "\\item 54\n",
       "\\item 34\n",
       "\\item 56\n",
       "\\end{enumerate*}\n"
      ],
      "text/markdown": [
       "1. 12\n",
       "2. 34\n",
       "3. 54\n",
       "4. 34\n",
       "5. 56\n",
       "\n",
       "\n"
      ],
      "text/plain": [
       "[1] 12 34 54 34 56"
      ]
     },
     "metadata": {},
     "output_type": "display_data"
    }
   ],
   "source": [
    "df1[,\"age\"]"
   ]
  },
  {
   "cell_type": "code",
   "execution_count": 10,
   "metadata": {},
   "outputs": [
    {
     "data": {
      "text/html": [
       "<table>\n",
       "<thead><tr><th></th><th scope=col>name</th><th scope=col>age</th></tr></thead>\n",
       "<tbody>\n",
       "\t<tr><th scope=row>3</th><td>Ankur</td><td>54   </td></tr>\n",
       "\t<tr><th scope=row>4</th><td>Shyam</td><td>34   </td></tr>\n",
       "</tbody>\n",
       "</table>\n"
      ],
      "text/latex": [
       "\\begin{tabular}{r|ll}\n",
       "  & name & age\\\\\n",
       "\\hline\n",
       "\t3 & Ankur & 54   \\\\\n",
       "\t4 & Shyam & 34   \\\\\n",
       "\\end{tabular}\n"
      ],
      "text/markdown": [
       "\n",
       "| <!--/--> | name | age | \n",
       "|---|---|\n",
       "| 3 | Ankur | 54    | \n",
       "| 4 | Shyam | 34    | \n",
       "\n",
       "\n"
      ],
      "text/plain": [
       "  name  age\n",
       "3 Ankur 54 \n",
       "4 Shyam 34 "
      ]
     },
     "metadata": {},
     "output_type": "display_data"
    }
   ],
   "source": [
    "df1[c(3,4),c(\"name\",\"age\")]"
   ]
  },
  {
   "cell_type": "code",
   "execution_count": 12,
   "metadata": {},
   "outputs": [
    {
     "data": {
      "text/html": [
       "<table>\n",
       "<thead><tr><th scope=col>age</th></tr></thead>\n",
       "<tbody>\n",
       "\t<tr><td>12</td></tr>\n",
       "\t<tr><td>34</td></tr>\n",
       "\t<tr><td>54</td></tr>\n",
       "\t<tr><td>34</td></tr>\n",
       "\t<tr><td>56</td></tr>\n",
       "</tbody>\n",
       "</table>\n"
      ],
      "text/latex": [
       "\\begin{tabular}{r|l}\n",
       " age\\\\\n",
       "\\hline\n",
       "\t 12\\\\\n",
       "\t 34\\\\\n",
       "\t 54\\\\\n",
       "\t 34\\\\\n",
       "\t 56\\\\\n",
       "\\end{tabular}\n"
      ],
      "text/markdown": [
       "\n",
       "age | \n",
       "|---|---|---|---|---|\n",
       "| 12 | \n",
       "| 34 | \n",
       "| 54 | \n",
       "| 34 | \n",
       "| 56 | \n",
       "\n",
       "\n"
      ],
      "text/plain": [
       "  age\n",
       "1 12 \n",
       "2 34 \n",
       "3 54 \n",
       "4 34 \n",
       "5 56 "
      ]
     },
     "metadata": {},
     "output_type": "display_data"
    }
   ],
   "source": [
    "df1[2]"
   ]
  },
  {
   "cell_type": "code",
   "execution_count": 14,
   "metadata": {},
   "outputs": [
    {
     "data": {
      "text/html": [
       "<ol class=list-inline>\n",
       "\t<li>12</li>\n",
       "\t<li>34</li>\n",
       "\t<li>54</li>\n",
       "\t<li>34</li>\n",
       "\t<li>56</li>\n",
       "</ol>\n"
      ],
      "text/latex": [
       "\\begin{enumerate*}\n",
       "\\item 12\n",
       "\\item 34\n",
       "\\item 54\n",
       "\\item 34\n",
       "\\item 56\n",
       "\\end{enumerate*}\n"
      ],
      "text/markdown": [
       "1. 12\n",
       "2. 34\n",
       "3. 54\n",
       "4. 34\n",
       "5. 56\n",
       "\n",
       "\n"
      ],
      "text/plain": [
       "[1] 12 34 54 34 56"
      ]
     },
     "metadata": {},
     "output_type": "display_data"
    }
   ],
   "source": [
    "df1$age"
   ]
  },
  {
   "cell_type": "code",
   "execution_count": 15,
   "metadata": {},
   "outputs": [
    {
     "data": {
      "text/html": [
       "<ol class=list-inline>\n",
       "\t<li>12</li>\n",
       "\t<li>34</li>\n",
       "\t<li>54</li>\n",
       "\t<li>34</li>\n",
       "\t<li>56</li>\n",
       "</ol>\n"
      ],
      "text/latex": [
       "\\begin{enumerate*}\n",
       "\\item 12\n",
       "\\item 34\n",
       "\\item 54\n",
       "\\item 34\n",
       "\\item 56\n",
       "\\end{enumerate*}\n"
      ],
      "text/markdown": [
       "1. 12\n",
       "2. 34\n",
       "3. 54\n",
       "4. 34\n",
       "5. 56\n",
       "\n",
       "\n"
      ],
      "text/plain": [
       "[1] 12 34 54 34 56"
      ]
     },
     "metadata": {},
     "output_type": "display_data"
    }
   ],
   "source": [
    "df1[[\"age\"]]"
   ]
  },
  {
   "cell_type": "code",
   "execution_count": 16,
   "metadata": {},
   "outputs": [
    {
     "data": {
      "text/html": [
       "<table>\n",
       "<thead><tr><th scope=col>name</th><th scope=col>age</th><th scope=col>child</th><th scope=col>height</th></tr></thead>\n",
       "<tbody>\n",
       "\t<tr><td>Amir </td><td>12   </td><td>FALSE</td><td>123  </td></tr>\n",
       "\t<tr><td>Ravi </td><td>34   </td><td> TRUE</td><td>213  </td></tr>\n",
       "\t<tr><td>Ankur</td><td>54   </td><td>FALSE</td><td>234  </td></tr>\n",
       "\t<tr><td>Shyam</td><td>34   </td><td> TRUE</td><td>125  </td></tr>\n",
       "\t<tr><td>Mohit</td><td>56   </td><td>FALSE</td><td>128  </td></tr>\n",
       "</tbody>\n",
       "</table>\n"
      ],
      "text/latex": [
       "\\begin{tabular}{r|llll}\n",
       " name & age & child & height\\\\\n",
       "\\hline\n",
       "\t Amir  & 12    & FALSE & 123  \\\\\n",
       "\t Ravi  & 34    &  TRUE & 213  \\\\\n",
       "\t Ankur & 54    & FALSE & 234  \\\\\n",
       "\t Shyam & 34    &  TRUE & 125  \\\\\n",
       "\t Mohit & 56    & FALSE & 128  \\\\\n",
       "\\end{tabular}\n"
      ],
      "text/markdown": [
       "\n",
       "name | age | child | height | \n",
       "|---|---|---|---|---|\n",
       "| Amir  | 12    | FALSE | 123   | \n",
       "| Ravi  | 34    |  TRUE | 213   | \n",
       "| Ankur | 54    | FALSE | 234   | \n",
       "| Shyam | 34    |  TRUE | 125   | \n",
       "| Mohit | 56    | FALSE | 128   | \n",
       "\n",
       "\n"
      ],
      "text/plain": [
       "  name  age child height\n",
       "1 Amir  12  FALSE 123   \n",
       "2 Ravi  34   TRUE 213   \n",
       "3 Ankur 54  FALSE 234   \n",
       "4 Shyam 34   TRUE 125   \n",
       "5 Mohit 56  FALSE 128   "
      ]
     },
     "metadata": {},
     "output_type": "display_data"
    }
   ],
   "source": [
    "height <- c(123,213,234,125,128)\n",
    "df1$height <- height\n",
    "df1"
   ]
  },
  {
   "cell_type": "code",
   "execution_count": 17,
   "metadata": {},
   "outputs": [
    {
     "data": {
      "text/html": [
       "<table>\n",
       "<thead><tr><th scope=col>name</th><th scope=col>age</th><th scope=col>child</th><th scope=col>height</th><th scope=col>weight</th></tr></thead>\n",
       "<tbody>\n",
       "\t<tr><td>Amir </td><td>12   </td><td>FALSE</td><td>123  </td><td>45   </td></tr>\n",
       "\t<tr><td>Ravi </td><td>34   </td><td> TRUE</td><td>213  </td><td>34   </td></tr>\n",
       "\t<tr><td>Ankur</td><td>54   </td><td>FALSE</td><td>234  </td><td>56   </td></tr>\n",
       "\t<tr><td>Shyam</td><td>34   </td><td> TRUE</td><td>125  </td><td>78   </td></tr>\n",
       "\t<tr><td>Mohit</td><td>56   </td><td>FALSE</td><td>128  </td><td>59   </td></tr>\n",
       "</tbody>\n",
       "</table>\n"
      ],
      "text/latex": [
       "\\begin{tabular}{r|lllll}\n",
       " name & age & child & height & weight\\\\\n",
       "\\hline\n",
       "\t Amir  & 12    & FALSE & 123   & 45   \\\\\n",
       "\t Ravi  & 34    &  TRUE & 213   & 34   \\\\\n",
       "\t Ankur & 54    & FALSE & 234   & 56   \\\\\n",
       "\t Shyam & 34    &  TRUE & 125   & 78   \\\\\n",
       "\t Mohit & 56    & FALSE & 128   & 59   \\\\\n",
       "\\end{tabular}\n"
      ],
      "text/markdown": [
       "\n",
       "name | age | child | height | weight | \n",
       "|---|---|---|---|---|\n",
       "| Amir  | 12    | FALSE | 123   | 45    | \n",
       "| Ravi  | 34    |  TRUE | 213   | 34    | \n",
       "| Ankur | 54    | FALSE | 234   | 56    | \n",
       "| Shyam | 34    |  TRUE | 125   | 78    | \n",
       "| Mohit | 56    | FALSE | 128   | 59    | \n",
       "\n",
       "\n"
      ],
      "text/plain": [
       "  name  age child height weight\n",
       "1 Amir  12  FALSE 123    45    \n",
       "2 Ravi  34   TRUE 213    34    \n",
       "3 Ankur 54  FALSE 234    56    \n",
       "4 Shyam 34   TRUE 125    78    \n",
       "5 Mohit 56  FALSE 128    59    "
      ]
     },
     "metadata": {},
     "output_type": "display_data"
    }
   ],
   "source": [
    "weight <- c(45,34,56,78,59)\n",
    "cbind(df1,weight)"
   ]
  },
  {
   "cell_type": "code",
   "execution_count": 22,
   "metadata": {},
   "outputs": [
    {
     "data": {
      "text/html": [
       "<table>\n",
       "<thead><tr><th scope=col>name</th><th scope=col>age</th><th scope=col>child</th><th scope=col>height</th></tr></thead>\n",
       "<tbody>\n",
       "\t<tr><td>Amir </td><td>12   </td><td>FALSE</td><td>123  </td></tr>\n",
       "\t<tr><td>Ravi </td><td>34   </td><td> TRUE</td><td>213  </td></tr>\n",
       "\t<tr><td>Ankur</td><td>54   </td><td>FALSE</td><td>234  </td></tr>\n",
       "\t<tr><td>Shyam</td><td>34   </td><td> TRUE</td><td>125  </td></tr>\n",
       "\t<tr><td>Mohit</td><td>56   </td><td>FALSE</td><td>128  </td></tr>\n",
       "\t<tr><td>Tom  </td><td>49   </td><td>FALSE</td><td>178  </td></tr>\n",
       "</tbody>\n",
       "</table>\n"
      ],
      "text/latex": [
       "\\begin{tabular}{r|llll}\n",
       " name & age & child & height\\\\\n",
       "\\hline\n",
       "\t Amir  & 12    & FALSE & 123  \\\\\n",
       "\t Ravi  & 34    &  TRUE & 213  \\\\\n",
       "\t Ankur & 54    & FALSE & 234  \\\\\n",
       "\t Shyam & 34    &  TRUE & 125  \\\\\n",
       "\t Mohit & 56    & FALSE & 128  \\\\\n",
       "\t Tom   & 49    & FALSE & 178  \\\\\n",
       "\\end{tabular}\n"
      ],
      "text/markdown": [
       "\n",
       "name | age | child | height | \n",
       "|---|---|---|---|---|---|\n",
       "| Amir  | 12    | FALSE | 123   | \n",
       "| Ravi  | 34    |  TRUE | 213   | \n",
       "| Ankur | 54    | FALSE | 234   | \n",
       "| Shyam | 34    |  TRUE | 125   | \n",
       "| Mohit | 56    | FALSE | 128   | \n",
       "| Tom   | 49    | FALSE | 178   | \n",
       "\n",
       "\n"
      ],
      "text/plain": [
       "  name  age child height\n",
       "1 Amir  12  FALSE 123   \n",
       "2 Ravi  34   TRUE 213   \n",
       "3 Ankur 54  FALSE 234   \n",
       "4 Shyam 34   TRUE 125   \n",
       "5 Mohit 56  FALSE 128   \n",
       "6 Tom   49  FALSE 178   "
      ]
     },
     "metadata": {},
     "output_type": "display_data"
    }
   ],
   "source": [
    " tom <- data.frame(name=\"Tom\",age=49,child=FALSE,height=178)\n",
    "df1=rbind(df1,tom)\n",
    "df1"
   ]
  },
  {
   "cell_type": "code",
   "execution_count": 23,
   "metadata": {},
   "outputs": [
    {
     "data": {
      "text/html": [
       "<ol class=list-inline>\n",
       "\t<li>12</li>\n",
       "\t<li>34</li>\n",
       "\t<li>34</li>\n",
       "\t<li>49</li>\n",
       "\t<li>54</li>\n",
       "\t<li>56</li>\n",
       "</ol>\n"
      ],
      "text/latex": [
       "\\begin{enumerate*}\n",
       "\\item 12\n",
       "\\item 34\n",
       "\\item 34\n",
       "\\item 49\n",
       "\\item 54\n",
       "\\item 56\n",
       "\\end{enumerate*}\n"
      ],
      "text/markdown": [
       "1. 12\n",
       "2. 34\n",
       "3. 34\n",
       "4. 49\n",
       "5. 54\n",
       "6. 56\n",
       "\n",
       "\n"
      ],
      "text/plain": [
       "[1] 12 34 34 49 54 56"
      ]
     },
     "metadata": {},
     "output_type": "display_data"
    }
   ],
   "source": [
    "sort(df1$age)"
   ]
  },
  {
   "cell_type": "code",
   "execution_count": 25,
   "metadata": {},
   "outputs": [
    {
     "data": {
      "text/html": [
       "<ol class=list-inline>\n",
       "\t<li>1</li>\n",
       "\t<li>2</li>\n",
       "\t<li>4</li>\n",
       "\t<li>6</li>\n",
       "\t<li>3</li>\n",
       "\t<li>5</li>\n",
       "</ol>\n"
      ],
      "text/latex": [
       "\\begin{enumerate*}\n",
       "\\item 1\n",
       "\\item 2\n",
       "\\item 4\n",
       "\\item 6\n",
       "\\item 3\n",
       "\\item 5\n",
       "\\end{enumerate*}\n"
      ],
      "text/markdown": [
       "1. 1\n",
       "2. 2\n",
       "3. 4\n",
       "4. 6\n",
       "5. 3\n",
       "6. 5\n",
       "\n",
       "\n"
      ],
      "text/plain": [
       "[1] 1 2 4 6 3 5"
      ]
     },
     "metadata": {},
     "output_type": "display_data"
    }
   ],
   "source": [
    "ranks <- order(df1$age)\n",
    "ranks"
   ]
  },
  {
   "cell_type": "code",
   "execution_count": 26,
   "metadata": {},
   "outputs": [
    {
     "data": {
      "text/html": [
       "<table>\n",
       "<thead><tr><th></th><th scope=col>name</th><th scope=col>age</th><th scope=col>child</th><th scope=col>height</th></tr></thead>\n",
       "<tbody>\n",
       "\t<tr><th scope=row>1</th><td>Amir </td><td>12   </td><td>FALSE</td><td>123  </td></tr>\n",
       "\t<tr><th scope=row>2</th><td>Ravi </td><td>34   </td><td> TRUE</td><td>213  </td></tr>\n",
       "\t<tr><th scope=row>4</th><td>Shyam</td><td>34   </td><td> TRUE</td><td>125  </td></tr>\n",
       "\t<tr><th scope=row>6</th><td>Tom  </td><td>49   </td><td>FALSE</td><td>178  </td></tr>\n",
       "\t<tr><th scope=row>3</th><td>Ankur</td><td>54   </td><td>FALSE</td><td>234  </td></tr>\n",
       "\t<tr><th scope=row>5</th><td>Mohit</td><td>56   </td><td>FALSE</td><td>128  </td></tr>\n",
       "</tbody>\n",
       "</table>\n"
      ],
      "text/latex": [
       "\\begin{tabular}{r|llll}\n",
       "  & name & age & child & height\\\\\n",
       "\\hline\n",
       "\t1 & Amir  & 12    & FALSE & 123  \\\\\n",
       "\t2 & Ravi  & 34    &  TRUE & 213  \\\\\n",
       "\t4 & Shyam & 34    &  TRUE & 125  \\\\\n",
       "\t6 & Tom   & 49    & FALSE & 178  \\\\\n",
       "\t3 & Ankur & 54    & FALSE & 234  \\\\\n",
       "\t5 & Mohit & 56    & FALSE & 128  \\\\\n",
       "\\end{tabular}\n"
      ],
      "text/markdown": [
       "\n",
       "| <!--/--> | name | age | child | height | \n",
       "|---|---|---|---|---|---|\n",
       "| 1 | Amir  | 12    | FALSE | 123   | \n",
       "| 2 | Ravi  | 34    |  TRUE | 213   | \n",
       "| 4 | Shyam | 34    |  TRUE | 125   | \n",
       "| 6 | Tom   | 49    | FALSE | 178   | \n",
       "| 3 | Ankur | 54    | FALSE | 234   | \n",
       "| 5 | Mohit | 56    | FALSE | 128   | \n",
       "\n",
       "\n"
      ],
      "text/plain": [
       "  name  age child height\n",
       "1 Amir  12  FALSE 123   \n",
       "2 Ravi  34   TRUE 213   \n",
       "4 Shyam 34   TRUE 125   \n",
       "6 Tom   49  FALSE 178   \n",
       "3 Ankur 54  FALSE 234   \n",
       "5 Mohit 56  FALSE 128   "
      ]
     },
     "metadata": {},
     "output_type": "display_data"
    }
   ],
   "source": [
    "df1[ranks,]"
   ]
  },
  {
   "cell_type": "code",
   "execution_count": 27,
   "metadata": {},
   "outputs": [
    {
     "data": {
      "text/html": [
       "<table>\n",
       "<thead><tr><th></th><th scope=col>name</th><th scope=col>age</th><th scope=col>child</th><th scope=col>height</th></tr></thead>\n",
       "<tbody>\n",
       "\t<tr><th scope=row>3</th><td>Ankur</td><td>54   </td><td>FALSE</td><td>234  </td></tr>\n",
       "\t<tr><th scope=row>2</th><td>Ravi </td><td>34   </td><td> TRUE</td><td>213  </td></tr>\n",
       "\t<tr><th scope=row>6</th><td>Tom  </td><td>49   </td><td>FALSE</td><td>178  </td></tr>\n",
       "\t<tr><th scope=row>5</th><td>Mohit</td><td>56   </td><td>FALSE</td><td>128  </td></tr>\n",
       "\t<tr><th scope=row>4</th><td>Shyam</td><td>34   </td><td> TRUE</td><td>125  </td></tr>\n",
       "\t<tr><th scope=row>1</th><td>Amir </td><td>12   </td><td>FALSE</td><td>123  </td></tr>\n",
       "</tbody>\n",
       "</table>\n"
      ],
      "text/latex": [
       "\\begin{tabular}{r|llll}\n",
       "  & name & age & child & height\\\\\n",
       "\\hline\n",
       "\t3 & Ankur & 54    & FALSE & 234  \\\\\n",
       "\t2 & Ravi  & 34    &  TRUE & 213  \\\\\n",
       "\t6 & Tom   & 49    & FALSE & 178  \\\\\n",
       "\t5 & Mohit & 56    & FALSE & 128  \\\\\n",
       "\t4 & Shyam & 34    &  TRUE & 125  \\\\\n",
       "\t1 & Amir  & 12    & FALSE & 123  \\\\\n",
       "\\end{tabular}\n"
      ],
      "text/markdown": [
       "\n",
       "| <!--/--> | name | age | child | height | \n",
       "|---|---|---|---|---|---|\n",
       "| 3 | Ankur | 54    | FALSE | 234   | \n",
       "| 2 | Ravi  | 34    |  TRUE | 213   | \n",
       "| 6 | Tom   | 49    | FALSE | 178   | \n",
       "| 5 | Mohit | 56    | FALSE | 128   | \n",
       "| 4 | Shyam | 34    |  TRUE | 125   | \n",
       "| 1 | Amir  | 12    | FALSE | 123   | \n",
       "\n",
       "\n"
      ],
      "text/plain": [
       "  name  age child height\n",
       "3 Ankur 54  FALSE 234   \n",
       "2 Ravi  34   TRUE 213   \n",
       "6 Tom   49  FALSE 178   \n",
       "5 Mohit 56  FALSE 128   \n",
       "4 Shyam 34   TRUE 125   \n",
       "1 Amir  12  FALSE 123   "
      ]
     },
     "metadata": {},
     "output_type": "display_data"
    }
   ],
   "source": [
    "df1[order(df1$height,decreasing=TRUE),]"
   ]
  },
  {
   "cell_type": "code",
   "execution_count": null,
   "metadata": {
    "collapsed": true
   },
   "outputs": [],
   "source": []
  }
 ],
 "metadata": {
  "kernelspec": {
   "display_name": "R",
   "language": "R",
   "name": "ir"
  },
  "language_info": {
   "codemirror_mode": "r",
   "file_extension": ".r",
   "mimetype": "text/x-r-source",
   "name": "R",
   "pygments_lexer": "r",
   "version": "3.4.2"
  }
 },
 "nbformat": 4,
 "nbformat_minor": 2
}
