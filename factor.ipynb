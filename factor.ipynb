{
 "cells": [
  {
   "cell_type": "code",
   "execution_count": 5,
   "metadata": {},
   "outputs": [
    {
     "data": {
      "text/html": [
       "<ol class=list-inline>\n",
       "\t<li>1</li>\n",
       "\t<li>2</li>\n",
       "\t<li>3</li>\n",
       "\t<li>4</li>\n",
       "\t<li>5</li>\n",
       "\t<li>4</li>\n",
       "\t<li>5</li>\n",
       "\t<li>6</li>\n",
       "\t<li>7</li>\n",
       "\t<li>2</li>\n",
       "\t<li>1</li>\n",
       "\t<li>3</li>\n",
       "</ol>\n"
      ],
      "text/latex": [
       "\\begin{enumerate*}\n",
       "\\item 1\n",
       "\\item 2\n",
       "\\item 3\n",
       "\\item 4\n",
       "\\item 5\n",
       "\\item 4\n",
       "\\item 5\n",
       "\\item 6\n",
       "\\item 7\n",
       "\\item 2\n",
       "\\item 1\n",
       "\\item 3\n",
       "\\end{enumerate*}\n"
      ],
      "text/markdown": [
       "1. 1\n",
       "2. 2\n",
       "3. 3\n",
       "4. 4\n",
       "5. 5\n",
       "6. 4\n",
       "7. 5\n",
       "8. 6\n",
       "9. 7\n",
       "10. 2\n",
       "11. 1\n",
       "12. 3\n",
       "\n",
       "\n"
      ],
      "text/plain": [
       " [1] 1 2 3 4 5 4 5 6 7 2 1 3\n",
       "Levels: 1 2 3 4 5 6 7"
      ]
     },
     "metadata": {},
     "output_type": "display_data"
    }
   ],
   "source": [
    "f1 <- factor(c(1,2,3,4,5,4,5,6,7,2,1,3))\n",
    "f1"
   ]
  },
  {
   "cell_type": "code",
   "execution_count": 6,
   "metadata": {},
   "outputs": [
    {
     "data": {
      "text/html": [
       "<ol class=list-inline>\n",
       "\t<li>'1'</li>\n",
       "\t<li>'2'</li>\n",
       "\t<li>'3'</li>\n",
       "\t<li>'4'</li>\n",
       "\t<li>'5'</li>\n",
       "\t<li>'6'</li>\n",
       "\t<li>'7'</li>\n",
       "</ol>\n"
      ],
      "text/latex": [
       "\\begin{enumerate*}\n",
       "\\item '1'\n",
       "\\item '2'\n",
       "\\item '3'\n",
       "\\item '4'\n",
       "\\item '5'\n",
       "\\item '6'\n",
       "\\item '7'\n",
       "\\end{enumerate*}\n"
      ],
      "text/markdown": [
       "1. '1'\n",
       "2. '2'\n",
       "3. '3'\n",
       "4. '4'\n",
       "5. '5'\n",
       "6. '6'\n",
       "7. '7'\n",
       "\n",
       "\n"
      ],
      "text/plain": [
       "[1] \"1\" \"2\" \"3\" \"4\" \"5\" \"6\" \"7\""
      ]
     },
     "metadata": {},
     "output_type": "display_data"
    }
   ],
   "source": [
    "levels(f1)"
   ]
  },
  {
   "cell_type": "code",
   "execution_count": 7,
   "metadata": {},
   "outputs": [
    {
     "name": "stdout",
     "output_type": "stream",
     "text": [
      " Factor w/ 7 levels \"1\",\"2\",\"3\",\"4\",..: 1 2 3 4 5 4 5 6 7 2 ...\n"
     ]
    }
   ],
   "source": [
    "str(f1)"
   ]
  },
  {
   "cell_type": "code",
   "execution_count": 8,
   "metadata": {
    "collapsed": true
   },
   "outputs": [],
   "source": [
    "blood <- c(\"A\",\"AB\",\"O\",\"B\",\"O\",\"A\",\"AB\",\"O\")\n",
    "bld_factor <- factor(blood)"
   ]
  },
  {
   "cell_type": "code",
   "execution_count": 9,
   "metadata": {},
   "outputs": [
    {
     "data": {
      "text/html": [
       "<ol class=list-inline>\n",
       "\t<li>A</li>\n",
       "\t<li>AB</li>\n",
       "\t<li>O</li>\n",
       "\t<li>B</li>\n",
       "\t<li>O</li>\n",
       "\t<li>A</li>\n",
       "\t<li>AB</li>\n",
       "\t<li>O</li>\n",
       "</ol>\n"
      ],
      "text/latex": [
       "\\begin{enumerate*}\n",
       "\\item A\n",
       "\\item AB\n",
       "\\item O\n",
       "\\item B\n",
       "\\item O\n",
       "\\item A\n",
       "\\item AB\n",
       "\\item O\n",
       "\\end{enumerate*}\n"
      ],
      "text/markdown": [
       "1. A\n",
       "2. AB\n",
       "3. O\n",
       "4. B\n",
       "5. O\n",
       "6. A\n",
       "7. AB\n",
       "8. O\n",
       "\n",
       "\n"
      ],
      "text/plain": [
       "[1] A  AB O  B  O  A  AB O \n",
       "Levels: A AB B O"
      ]
     },
     "metadata": {},
     "output_type": "display_data"
    }
   ],
   "source": [
    "bld_factor"
   ]
  },
  {
   "cell_type": "code",
   "execution_count": 13,
   "metadata": {},
   "outputs": [
    {
     "data": {
      "text/html": [
       "<ol class=list-inline>\n",
       "\t<li>'A'</li>\n",
       "\t<li>'AB'</li>\n",
       "\t<li>'B'</li>\n",
       "\t<li>'O'</li>\n",
       "</ol>\n"
      ],
      "text/latex": [
       "\\begin{enumerate*}\n",
       "\\item 'A'\n",
       "\\item 'AB'\n",
       "\\item 'B'\n",
       "\\item 'O'\n",
       "\\end{enumerate*}\n"
      ],
      "text/markdown": [
       "1. 'A'\n",
       "2. 'AB'\n",
       "3. 'B'\n",
       "4. 'O'\n",
       "\n",
       "\n"
      ],
      "text/plain": [
       "[1] \"A\"  \"AB\" \"B\"  \"O\" "
      ]
     },
     "metadata": {},
     "output_type": "display_data"
    }
   ],
   "source": [
    "levels(bld_factor)"
   ]
  },
  {
   "cell_type": "code",
   "execution_count": 14,
   "metadata": {},
   "outputs": [
    {
     "data": {
      "text/html": [
       "<ol class=list-inline>\n",
       "\t<li>BT_A</li>\n",
       "\t<li>BT_AB</li>\n",
       "\t<li>BT_O</li>\n",
       "\t<li>BT_B</li>\n",
       "\t<li>BT_O</li>\n",
       "\t<li>BT_A</li>\n",
       "\t<li>BT_AB</li>\n",
       "\t<li>BT_O</li>\n",
       "</ol>\n"
      ],
      "text/latex": [
       "\\begin{enumerate*}\n",
       "\\item BT\\_A\n",
       "\\item BT\\_AB\n",
       "\\item BT\\_O\n",
       "\\item BT\\_B\n",
       "\\item BT\\_O\n",
       "\\item BT\\_A\n",
       "\\item BT\\_AB\n",
       "\\item BT\\_O\n",
       "\\end{enumerate*}\n"
      ],
      "text/markdown": [
       "1. BT_A\n",
       "2. BT_AB\n",
       "3. BT_O\n",
       "4. BT_B\n",
       "5. BT_O\n",
       "6. BT_A\n",
       "7. BT_AB\n",
       "8. BT_O\n",
       "\n",
       "\n"
      ],
      "text/plain": [
       "[1] BT_A  BT_AB BT_O  BT_B  BT_O  BT_A  BT_AB BT_O \n",
       "Levels: BT_A BT_AB BT_B BT_O"
      ]
     },
     "metadata": {},
     "output_type": "display_data"
    }
   ],
   "source": [
    "levels(bld_factor) <- c(\"BT_A\",\"BT_AB\",\"BT_B\",\"BT_O\")\n",
    "bld_factor"
   ]
  },
  {
   "cell_type": "code",
   "execution_count": 15,
   "metadata": {},
   "outputs": [
    {
     "data": {
      "text/html": [
       "<ol class=list-inline>\n",
       "\t<li>'BT_A'</li>\n",
       "\t<li>'BT_AB'</li>\n",
       "\t<li>'BT_B'</li>\n",
       "\t<li>'BT_O'</li>\n",
       "</ol>\n"
      ],
      "text/latex": [
       "\\begin{enumerate*}\n",
       "\\item 'BT\\_A'\n",
       "\\item 'BT\\_AB'\n",
       "\\item 'BT\\_B'\n",
       "\\item 'BT\\_O'\n",
       "\\end{enumerate*}\n"
      ],
      "text/markdown": [
       "1. 'BT_A'\n",
       "2. 'BT_AB'\n",
       "3. 'BT_B'\n",
       "4. 'BT_O'\n",
       "\n",
       "\n"
      ],
      "text/plain": [
       "[1] \"BT_A\"  \"BT_AB\" \"BT_B\"  \"BT_O\" "
      ]
     },
     "metadata": {},
     "output_type": "display_data"
    }
   ],
   "source": [
    "levels(bld_factor)"
   ]
  },
  {
   "cell_type": "code",
   "execution_count": 16,
   "metadata": {},
   "outputs": [
    {
     "data": {
      "text/html": [
       "<ol class=list-inline>\n",
       "\t<li>M</li>\n",
       "\t<li>L</li>\n",
       "\t<li>M</li>\n",
       "\t<li>S</li>\n",
       "\t<li>M</li>\n",
       "\t<li>S</li>\n",
       "\t<li>L</li>\n",
       "\t<li>L</li>\n",
       "</ol>\n"
      ],
      "text/latex": [
       "\\begin{enumerate*}\n",
       "\\item M\n",
       "\\item L\n",
       "\\item M\n",
       "\\item S\n",
       "\\item M\n",
       "\\item S\n",
       "\\item L\n",
       "\\item L\n",
       "\\end{enumerate*}\n"
      ],
      "text/markdown": [
       "1. M\n",
       "2. L\n",
       "3. M\n",
       "4. S\n",
       "5. M\n",
       "6. S\n",
       "7. L\n",
       "8. L\n",
       "\n",
       "\n"
      ],
      "text/plain": [
       "[1] M L M S M S L L\n",
       "Levels: S < M < L"
      ]
     },
     "metadata": {},
     "output_type": "display_data"
    }
   ],
   "source": [
    "tshirt <- c(\"M\",\"L\",\"M\",\"S\",\"M\",\"S\",\"L\",\"L\")\n",
    "tshirt_factor <- factor(tshirt,ordered = TRUE ,levels=c(\"S\",\"M\",\"L\"))\n",
    "tshirt_factor"
   ]
  },
  {
   "cell_type": "code",
   "execution_count": 17,
   "metadata": {},
   "outputs": [
    {
     "data": {
      "text/html": [
       "<ol class=list-inline>\n",
       "\t<li>'S'</li>\n",
       "\t<li>'M'</li>\n",
       "\t<li>'L'</li>\n",
       "</ol>\n"
      ],
      "text/latex": [
       "\\begin{enumerate*}\n",
       "\\item 'S'\n",
       "\\item 'M'\n",
       "\\item 'L'\n",
       "\\end{enumerate*}\n"
      ],
      "text/markdown": [
       "1. 'S'\n",
       "2. 'M'\n",
       "3. 'L'\n",
       "\n",
       "\n"
      ],
      "text/plain": [
       "[1] \"S\" \"M\" \"L\""
      ]
     },
     "metadata": {},
     "output_type": "display_data"
    }
   ],
   "source": [
    "levels(tshirt_factor)"
   ]
  },
  {
   "cell_type": "code",
   "execution_count": 20,
   "metadata": {},
   "outputs": [
    {
     "data": {
      "text/html": [
       "FALSE"
      ],
      "text/latex": [
       "FALSE"
      ],
      "text/markdown": [
       "FALSE"
      ],
      "text/plain": [
       "[1] FALSE"
      ]
     },
     "metadata": {},
     "output_type": "display_data"
    },
    {
     "data": {
      "text/html": [
       "TRUE"
      ],
      "text/latex": [
       "TRUE"
      ],
      "text/markdown": [
       "TRUE"
      ],
      "text/plain": [
       "[1] TRUE"
      ]
     },
     "metadata": {},
     "output_type": "display_data"
    }
   ],
   "source": [
    "tshirt_factor[1]<tshirt_factor[4]\n",
    "tshirt_factor[1]<tshirt_factor[2]"
   ]
  },
  {
   "cell_type": "code",
   "execution_count": null,
   "metadata": {
    "collapsed": true
   },
   "outputs": [],
   "source": []
  }
 ],
 "metadata": {
  "kernelspec": {
   "display_name": "R",
   "language": "R",
   "name": "ir"
  },
  "language_info": {
   "codemirror_mode": "r",
   "file_extension": ".r",
   "mimetype": "text/x-r-source",
   "name": "R",
   "pygments_lexer": "r",
   "version": "3.4.2"
  }
 },
 "nbformat": 4,
 "nbformat_minor": 2
}
