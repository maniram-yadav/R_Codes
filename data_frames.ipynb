{
 "cells": [
  {
   "cell_type": "code",
   "execution_count": 3,
   "metadata": {
    "collapsed": true
   },
   "outputs": [],
   "source": [
    "df <- data.frame(\"name\"=c(\"maniram\",\"amit\",\"ravi\"),\"age\"=c(20,34,56))"
   ]
  },
  {
   "cell_type": "code",
   "execution_count": 8,
   "metadata": {},
   "outputs": [
    {
     "data": {
      "text/html": [
       "<ol class=list-inline>\n",
       "\t<li>20</li>\n",
       "\t<li>34</li>\n",
       "\t<li>56</li>\n",
       "</ol>\n"
      ],
      "text/latex": [
       "\\begin{enumerate*}\n",
       "\\item 20\n",
       "\\item 34\n",
       "\\item 56\n",
       "\\end{enumerate*}\n"
      ],
      "text/markdown": [
       "1. 20\n",
       "2. 34\n",
       "3. 56\n",
       "\n",
       "\n"
      ],
      "text/plain": [
       "[1] 20 34 56"
      ]
     },
     "metadata": {},
     "output_type": "display_data"
    },
    {
     "data": {
      "text/html": [
       "<ol class=list-inline>\n",
       "\t<li>maniram</li>\n",
       "\t<li>amit</li>\n",
       "\t<li>ravi</li>\n",
       "</ol>\n"
      ],
      "text/latex": [
       "\\begin{enumerate*}\n",
       "\\item maniram\n",
       "\\item amit\n",
       "\\item ravi\n",
       "\\end{enumerate*}\n"
      ],
      "text/markdown": [
       "1. maniram\n",
       "2. amit\n",
       "3. ravi\n",
       "\n",
       "\n"
      ],
      "text/plain": [
       "[1] maniram amit    ravi   \n",
       "Levels: amit maniram ravi"
      ]
     },
     "metadata": {},
     "output_type": "display_data"
    },
    {
     "data": {
      "text/html": [
       "amit"
      ],
      "text/latex": [
       "amit"
      ],
      "text/markdown": [
       "amit"
      ],
      "text/plain": [
       "[1] amit\n",
       "Levels: amit maniram ravi"
      ]
     },
     "metadata": {},
     "output_type": "display_data"
    }
   ],
   "source": [
    "df$age\n",
    "df$name\n",
    "df$name[2]\n"
   ]
  },
  {
   "cell_type": "code",
   "execution_count": 14,
   "metadata": {},
   "outputs": [
    {
     "data": {
      "text/html": [
       "<table>\n",
       "<thead><tr><th scope=col>name</th><th scope=col>age</th><th scope=col>child</th></tr></thead>\n",
       "<tbody>\n",
       "\t<tr><td>Amir </td><td>12   </td><td>FALSE</td></tr>\n",
       "\t<tr><td>Ravi </td><td>34   </td><td> TRUE</td></tr>\n",
       "\t<tr><td>Ankur</td><td>54   </td><td>FALSE</td></tr>\n",
       "\t<tr><td>Shyam</td><td>34   </td><td> TRUE</td></tr>\n",
       "\t<tr><td>Mohit</td><td>56   </td><td>FALSE</td></tr>\n",
       "</tbody>\n",
       "</table>\n"
      ],
      "text/latex": [
       "\\begin{tabular}{r|lll}\n",
       " name & age & child\\\\\n",
       "\\hline\n",
       "\t Amir  & 12    & FALSE\\\\\n",
       "\t Ravi  & 34    &  TRUE\\\\\n",
       "\t Ankur & 54    & FALSE\\\\\n",
       "\t Shyam & 34    &  TRUE\\\\\n",
       "\t Mohit & 56    & FALSE\\\\\n",
       "\\end{tabular}\n"
      ],
      "text/markdown": [
       "\n",
       "name | age | child | \n",
       "|---|---|---|---|---|\n",
       "| Amir  | 12    | FALSE | \n",
       "| Ravi  | 34    |  TRUE | \n",
       "| Ankur | 54    | FALSE | \n",
       "| Shyam | 34    |  TRUE | \n",
       "| Mohit | 56    | FALSE | \n",
       "\n",
       "\n"
      ],
      "text/plain": [
       "  name  age child\n",
       "1 Amir  12  FALSE\n",
       "2 Ravi  34   TRUE\n",
       "3 Ankur 54  FALSE\n",
       "4 Shyam 34   TRUE\n",
       "5 Mohit 56  FALSE"
      ]
     },
     "metadata": {},
     "output_type": "display_data"
    }
   ],
   "source": [
    "name <- c (\"Amir\",\"Ravi\",\"Ankur\",\"Shyam\",\"Mohit\")\n",
    "age <- c(12,34,54,34,56)\n",
    "child <- c(FALSE,TRUE,FALSE,TRUE,FALSE)\n",
    "\n",
    "df1 <- data.frame(name,age,child,stringsAsFactors = FALSE)\n",
    "df1"
   ]
  },
  {
   "cell_type": "code",
   "execution_count": 15,
   "metadata": {},
   "outputs": [
    {
     "data": {
      "text/html": [],
      "text/latex": [],
      "text/markdown": [],
      "text/plain": [
       " \n",
       "1\n",
       "2\n",
       "3\n",
       "4\n",
       "5"
      ]
     },
     "metadata": {},
     "output_type": "display_data"
    }
   ],
   "source": [
    "df1[0]"
   ]
  },
  {
   "cell_type": "code",
   "execution_count": 16,
   "metadata": {},
   "outputs": [
    {
     "name": "stdout",
     "output_type": "stream",
     "text": [
      "'data.frame':\t5 obs. of  3 variables:\n",
      " $ name : chr  \"Amir\" \"Ravi\" \"Ankur\" \"Shyam\" ...\n",
      " $ age  : num  12 34 54 34 56\n",
      " $ child: logi  FALSE TRUE FALSE TRUE FALSE\n"
     ]
    }
   ],
   "source": [
    "str(df1)"
   ]
  },
  {
   "cell_type": "code",
   "execution_count": 17,
   "metadata": {},
   "outputs": [
    {
     "data": {
      "text/html": [
       "FALSE"
      ],
      "text/latex": [
       "FALSE"
      ],
      "text/markdown": [
       "FALSE"
      ],
      "text/plain": [
       "[1] FALSE"
      ]
     },
     "metadata": {},
     "output_type": "display_data"
    }
   ],
   "source": [
    "df1$child[3]"
   ]
  },
  {
   "cell_type": "code",
   "execution_count": null,
   "metadata": {
    "collapsed": true
   },
   "outputs": [],
   "source": []
  }
 ],
 "metadata": {
  "kernelspec": {
   "display_name": "R",
   "language": "R",
   "name": "ir"
  },
  "language_info": {
   "codemirror_mode": "r",
   "file_extension": ".r",
   "mimetype": "text/x-r-source",
   "name": "R",
   "pygments_lexer": "r",
   "version": "3.4.2"
  }
 },
 "nbformat": 4,
 "nbformat_minor": 2
}
