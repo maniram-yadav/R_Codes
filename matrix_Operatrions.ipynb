{
 "cells": [
  {
   "cell_type": "code",
   "execution_count": 2,
   "metadata": {},
   "outputs": [
    {
     "data": {
      "text/html": [
       "<table>\n",
       "<thead><tr><th></th><th scope=col>C1</th><th scope=col>C2</th><th scope=col>C3</th><th scope=col>C4</th><th scope=col>C5</th></tr></thead>\n",
       "<tbody>\n",
       "\t<tr><th scope=row>R1</th><td>11</td><td>17</td><td>13</td><td> 9</td><td>20</td></tr>\n",
       "\t<tr><th scope=row>R2</th><td> 7</td><td>10</td><td> 3</td><td> 8</td><td> 5</td></tr>\n",
       "\t<tr><th scope=row>R3</th><td> 2</td><td>16</td><td>19</td><td>14</td><td>18</td></tr>\n",
       "</tbody>\n",
       "</table>\n"
      ],
      "text/latex": [
       "\\begin{tabular}{r|lllll}\n",
       "  & C1 & C2 & C3 & C4 & C5\\\\\n",
       "\\hline\n",
       "\tR1 & 11 & 17 & 13 &  9 & 20\\\\\n",
       "\tR2 &  7 & 10 &  3 &  8 &  5\\\\\n",
       "\tR3 &  2 & 16 & 19 & 14 & 18\\\\\n",
       "\\end{tabular}\n"
      ],
      "text/markdown": [
       "\n",
       "| <!--/--> | C1 | C2 | C3 | C4 | C5 | \n",
       "|---|---|---|\n",
       "| R1 | 11 | 17 | 13 |  9 | 20 | \n",
       "| R2 |  7 | 10 |  3 |  8 |  5 | \n",
       "| R3 |  2 | 16 | 19 | 14 | 18 | \n",
       "\n",
       "\n"
      ],
      "text/plain": [
       "   C1 C2 C3 C4 C5\n",
       "R1 11 17 13  9 20\n",
       "R2  7 10  3  8  5\n",
       "R3  2 16 19 14 18"
      ]
     },
     "metadata": {},
     "output_type": "display_data"
    }
   ],
   "source": [
    "\n",
    "m <- matrix(sample(1:20,15),nrow=3,dimnames=list(c(\"R1\",\"R2\",\"R3\"),c(\"C1\",\"C2\",\"C3\",\"C4\",\"C5\")))\n",
    "m"
   ]
  },
  {
   "cell_type": "code",
   "execution_count": 7,
   "metadata": {},
   "outputs": [
    {
     "data": {
      "text/html": [
       "<dl class=dl-horizontal>\n",
       "\t<dt>C1</dt>\n",
       "\t\t<dd>20</dd>\n",
       "\t<dt>C2</dt>\n",
       "\t\t<dd>43</dd>\n",
       "\t<dt>C3</dt>\n",
       "\t\t<dd>35</dd>\n",
       "\t<dt>C4</dt>\n",
       "\t\t<dd>31</dd>\n",
       "\t<dt>C5</dt>\n",
       "\t\t<dd>43</dd>\n",
       "</dl>\n"
      ],
      "text/latex": [
       "\\begin{description*}\n",
       "\\item[C1] 20\n",
       "\\item[C2] 43\n",
       "\\item[C3] 35\n",
       "\\item[C4] 31\n",
       "\\item[C5] 43\n",
       "\\end{description*}\n"
      ],
      "text/markdown": [
       "C1\n",
       ":   20C2\n",
       ":   43C3\n",
       ":   35C4\n",
       ":   31C5\n",
       ":   43\n",
       "\n"
      ],
      "text/plain": [
       "C1 C2 C3 C4 C5 \n",
       "20 43 35 31 43 "
      ]
     },
     "metadata": {},
     "output_type": "display_data"
    },
    {
     "data": {
      "text/html": [
       "<dl class=dl-horizontal>\n",
       "\t<dt>R1</dt>\n",
       "\t\t<dd>70</dd>\n",
       "\t<dt>R2</dt>\n",
       "\t\t<dd>33</dd>\n",
       "\t<dt>R3</dt>\n",
       "\t\t<dd>69</dd>\n",
       "</dl>\n"
      ],
      "text/latex": [
       "\\begin{description*}\n",
       "\\item[R1] 70\n",
       "\\item[R2] 33\n",
       "\\item[R3] 69\n",
       "\\end{description*}\n"
      ],
      "text/markdown": [
       "R1\n",
       ":   70R2\n",
       ":   33R3\n",
       ":   69\n",
       "\n"
      ],
      "text/plain": [
       "R1 R2 R3 \n",
       "70 33 69 "
      ]
     },
     "metadata": {},
     "output_type": "display_data"
    },
    {
     "data": {
      "text/html": [
       "<dl class=dl-horizontal>\n",
       "\t<dt>C1</dt>\n",
       "\t\t<dd>18</dd>\n",
       "\t<dt>C2</dt>\n",
       "\t\t<dd>27</dd>\n",
       "\t<dt>C3</dt>\n",
       "\t\t<dd>16</dd>\n",
       "\t<dt>C4</dt>\n",
       "\t\t<dd>17</dd>\n",
       "\t<dt>C5</dt>\n",
       "\t\t<dd>25</dd>\n",
       "</dl>\n"
      ],
      "text/latex": [
       "\\begin{description*}\n",
       "\\item[C1] 18\n",
       "\\item[C2] 27\n",
       "\\item[C3] 16\n",
       "\\item[C4] 17\n",
       "\\item[C5] 25\n",
       "\\end{description*}\n"
      ],
      "text/markdown": [
       "C1\n",
       ":   18C2\n",
       ":   27C3\n",
       ":   16C4\n",
       ":   17C5\n",
       ":   25\n",
       "\n"
      ],
      "text/plain": [
       "C1 C2 C3 C4 C5 \n",
       "18 27 16 17 25 "
      ]
     },
     "metadata": {},
     "output_type": "display_data"
    },
    {
     "data": {
      "text/html": [
       "<dl class=dl-horizontal>\n",
       "\t<dt>R1</dt>\n",
       "\t\t<dd>24</dd>\n",
       "\t<dt>R2</dt>\n",
       "\t\t<dd>10</dd>\n",
       "\t<dt>R3</dt>\n",
       "\t\t<dd>21</dd>\n",
       "</dl>\n"
      ],
      "text/latex": [
       "\\begin{description*}\n",
       "\\item[R1] 24\n",
       "\\item[R2] 10\n",
       "\\item[R3] 21\n",
       "\\end{description*}\n"
      ],
      "text/markdown": [
       "R1\n",
       ":   24R2\n",
       ":   10R3\n",
       ":   21\n",
       "\n"
      ],
      "text/plain": [
       "R1 R2 R3 \n",
       "24 10 21 "
      ]
     },
     "metadata": {},
     "output_type": "display_data"
    }
   ],
   "source": [
    "colSums(m)\n",
    "rowSums(m)\n",
    "colSums(m[c(1,2),])\n",
    "rowSums(m[,c(1,3)])\n"
   ]
  },
  {
   "cell_type": "code",
   "execution_count": 9,
   "metadata": {},
   "outputs": [
    {
     "data": {
      "text/html": [
       "<table>\n",
       "<thead><tr><th></th><th scope=col>Col1</th><th scope=col>Col2</th></tr></thead>\n",
       "<tbody>\n",
       "\t<tr><th scope=row>row1</th><td>346</td><td>230</td></tr>\n",
       "\t<tr><th scope=row>row2</th><td>649</td><td>110</td></tr>\n",
       "\t<tr><th scope=row>row3</th><td>146</td><td>239</td></tr>\n",
       "</tbody>\n",
       "</table>\n"
      ],
      "text/latex": [
       "\\begin{tabular}{r|ll}\n",
       "  & Col1 & Col2\\\\\n",
       "\\hline\n",
       "\trow1 & 346 & 230\\\\\n",
       "\trow2 & 649 & 110\\\\\n",
       "\trow3 & 146 & 239\\\\\n",
       "\\end{tabular}\n"
      ],
      "text/markdown": [
       "\n",
       "| <!--/--> | Col1 | Col2 | \n",
       "|---|---|---|\n",
       "| row1 | 346 | 230 | \n",
       "| row2 | 649 | 110 | \n",
       "| row3 | 146 | 239 | \n",
       "\n",
       "\n"
      ],
      "text/plain": [
       "     Col1 Col2\n",
       "row1 346  230 \n",
       "row2 649  110 \n",
       "row3 146  239 "
      ]
     },
     "metadata": {},
     "output_type": "display_data"
    }
   ],
   "source": [
    "x <- c(346,230)\n",
    "y <- c(649,110)\n",
    "z <- c(146,239)\n",
    "sm <- rbind(x,y,z)\n",
    "colnames(sm) <- c(\"Col1\",\"Col2\")\n",
    "rownames(sm) <- c(\"row1\",\"row2\",\"row3\")\n",
    "sm"
   ]
  },
  {
   "cell_type": "code",
   "execution_count": 10,
   "metadata": {},
   "outputs": [
    {
     "data": {
      "text/html": [
       "<table>\n",
       "<thead><tr><th></th><th scope=col>Col1</th><th scope=col>Col2</th></tr></thead>\n",
       "<tbody>\n",
       "\t<tr><th scope=row>row1</th><td>173.0</td><td>115.0</td></tr>\n",
       "\t<tr><th scope=row>row2</th><td>324.5</td><td> 55.0</td></tr>\n",
       "\t<tr><th scope=row>row3</th><td> 73.0</td><td>119.5</td></tr>\n",
       "</tbody>\n",
       "</table>\n"
      ],
      "text/latex": [
       "\\begin{tabular}{r|ll}\n",
       "  & Col1 & Col2\\\\\n",
       "\\hline\n",
       "\trow1 & 173.0 & 115.0\\\\\n",
       "\trow2 & 324.5 &  55.0\\\\\n",
       "\trow3 &  73.0 & 119.5\\\\\n",
       "\\end{tabular}\n"
      ],
      "text/markdown": [
       "\n",
       "| <!--/--> | Col1 | Col2 | \n",
       "|---|---|---|\n",
       "| row1 | 173.0 | 115.0 | \n",
       "| row2 | 324.5 |  55.0 | \n",
       "| row3 |  73.0 | 119.5 | \n",
       "\n",
       "\n"
      ],
      "text/plain": [
       "     Col1  Col2 \n",
       "row1 173.0 115.0\n",
       "row2 324.5  55.0\n",
       "row3  73.0 119.5"
      ]
     },
     "metadata": {},
     "output_type": "display_data"
    }
   ],
   "source": [
    "sm/2"
   ]
  },
  {
   "cell_type": "code",
   "execution_count": 16,
   "metadata": {},
   "outputs": [
    {
     "data": {
      "text/html": [
       "<table>\n",
       "<thead><tr><th></th><th scope=col>Col1</th><th scope=col>Col2</th></tr></thead>\n",
       "<tbody>\n",
       "\t<tr><th scope=row>row1</th><td>120.23700</td><td>79.92633 </td></tr>\n",
       "\t<tr><th scope=row>row2</th><td>225.53125</td><td>38.22564 </td></tr>\n",
       "\t<tr><th scope=row>row3</th><td> 50.73584</td><td>83.05388 </td></tr>\n",
       "</tbody>\n",
       "</table>\n"
      ],
      "text/latex": [
       "\\begin{tabular}{r|ll}\n",
       "  & Col1 & Col2\\\\\n",
       "\\hline\n",
       "\trow1 & 120.23700 & 79.92633 \\\\\n",
       "\trow2 & 225.53125 & 38.22564 \\\\\n",
       "\trow3 &  50.73584 & 83.05388 \\\\\n",
       "\\end{tabular}\n"
      ],
      "text/markdown": [
       "\n",
       "| <!--/--> | Col1 | Col2 | \n",
       "|---|---|---|\n",
       "| row1 | 120.23700 | 79.92633  | \n",
       "| row2 | 225.53125 | 38.22564  | \n",
       "| row3 |  50.73584 | 83.05388  | \n",
       "\n",
       "\n"
      ],
      "text/plain": [
       "     Col1      Col2    \n",
       "row1 120.23700 79.92633\n",
       "row2 225.53125 38.22564\n",
       "row3  50.73584 83.05388"
      ]
     },
     "metadata": {},
     "output_type": "display_data"
    }
   ],
   "source": [
    "div = sm/2.87765\n",
    "div"
   ]
  },
  {
   "cell_type": "code",
   "execution_count": 17,
   "metadata": {},
   "outputs": [
    {
     "data": {
      "text/html": [
       "<dl class=dl-horizontal>\n",
       "\t<dt>Col1</dt>\n",
       "\t\t<dd>1141</dd>\n",
       "\t<dt>Col2</dt>\n",
       "\t\t<dd>579</dd>\n",
       "</dl>\n"
      ],
      "text/latex": [
       "\\begin{description*}\n",
       "\\item[Col1] 1141\n",
       "\\item[Col2] 579\n",
       "\\end{description*}\n"
      ],
      "text/markdown": [
       "Col1\n",
       ":   1141Col2\n",
       ":   579\n",
       "\n"
      ],
      "text/plain": [
       "Col1 Col2 \n",
       "1141  579 "
      ]
     },
     "metadata": {},
     "output_type": "display_data"
    }
   ],
   "source": [
    "colSums(sm)"
   ]
  },
  {
   "cell_type": "code",
   "execution_count": 18,
   "metadata": {},
   "outputs": [
    {
     "data": {
      "text/html": [
       "<table>\n",
       "<tbody>\n",
       "\t<tr><td>86</td><td>49</td></tr>\n",
       "\t<tr><td> 4</td><td>56</td></tr>\n",
       "\t<tr><td>43</td><td>36</td></tr>\n",
       "</tbody>\n",
       "</table>\n"
      ],
      "text/latex": [
       "\\begin{tabular}{ll}\n",
       "\t 86 & 49\\\\\n",
       "\t  4 & 56\\\\\n",
       "\t 43 & 36\\\\\n",
       "\\end{tabular}\n"
      ],
      "text/markdown": [
       "\n",
       "| 86 | 49 | \n",
       "|  4 | 56 | \n",
       "| 43 | 36 | \n",
       "\n",
       "\n"
      ],
      "text/plain": [
       "     [,1] [,2]\n",
       "[1,] 86   49  \n",
       "[2,]  4   56  \n",
       "[3,] 43   36  "
      ]
     },
     "metadata": {},
     "output_type": "display_data"
    }
   ],
   "source": [
    "sm2 <- matrix(sample(1:100,6),nrow=3)\n",
    "sm2"
   ]
  },
  {
   "cell_type": "code",
   "execution_count": 19,
   "metadata": {},
   "outputs": [
    {
     "data": {
      "text/html": [
       "<table>\n",
       "<thead><tr><th></th><th scope=col>Col1</th><th scope=col>Col2</th></tr></thead>\n",
       "<tbody>\n",
       "\t<tr><th scope=row>row1</th><td> 34.236999</td><td> 30.92633 </td></tr>\n",
       "\t<tr><th scope=row>row2</th><td>221.531249</td><td>-17.77436 </td></tr>\n",
       "\t<tr><th scope=row>row3</th><td>  7.735843</td><td> 47.05388 </td></tr>\n",
       "</tbody>\n",
       "</table>\n"
      ],
      "text/latex": [
       "\\begin{tabular}{r|ll}\n",
       "  & Col1 & Col2\\\\\n",
       "\\hline\n",
       "\trow1 &  34.236999 &  30.92633 \\\\\n",
       "\trow2 & 221.531249 & -17.77436 \\\\\n",
       "\trow3 &   7.735843 &  47.05388 \\\\\n",
       "\\end{tabular}\n"
      ],
      "text/markdown": [
       "\n",
       "| <!--/--> | Col1 | Col2 | \n",
       "|---|---|---|\n",
       "| row1 |  34.236999 |  30.92633  | \n",
       "| row2 | 221.531249 | -17.77436  | \n",
       "| row3 |   7.735843 |  47.05388  | \n",
       "\n",
       "\n"
      ],
      "text/plain": [
       "     Col1       Col2     \n",
       "row1  34.236999  30.92633\n",
       "row2 221.531249 -17.77436\n",
       "row3   7.735843  47.05388"
      ]
     },
     "metadata": {},
     "output_type": "display_data"
    }
   ],
   "source": [
    "sutract = div-sm2\n",
    "sutract"
   ]
  },
  {
   "cell_type": "code",
   "execution_count": 20,
   "metadata": {},
   "outputs": [
    {
     "data": {
      "text/html": [
       "<table>\n",
       "<thead><tr><th></th><th scope=col>Col1</th><th scope=col>Col2</th></tr></thead>\n",
       "<tbody>\n",
       "\t<tr><th scope=row>row1</th><td>10340.382</td><td>3916.390 </td></tr>\n",
       "\t<tr><th scope=row>row2</th><td>  902.125</td><td>2140.636 </td></tr>\n",
       "\t<tr><th scope=row>row3</th><td> 2181.641</td><td>2989.940 </td></tr>\n",
       "</tbody>\n",
       "</table>\n"
      ],
      "text/latex": [
       "\\begin{tabular}{r|ll}\n",
       "  & Col1 & Col2\\\\\n",
       "\\hline\n",
       "\trow1 & 10340.382 & 3916.390 \\\\\n",
       "\trow2 &   902.125 & 2140.636 \\\\\n",
       "\trow3 &  2181.641 & 2989.940 \\\\\n",
       "\\end{tabular}\n"
      ],
      "text/markdown": [
       "\n",
       "| <!--/--> | Col1 | Col2 | \n",
       "|---|---|---|\n",
       "| row1 | 10340.382 | 3916.390  | \n",
       "| row2 |   902.125 | 2140.636  | \n",
       "| row3 |  2181.641 | 2989.940  | \n",
       "\n",
       "\n"
      ],
      "text/plain": [
       "     Col1      Col2    \n",
       "row1 10340.382 3916.390\n",
       "row2   902.125 2140.636\n",
       "row3  2181.641 2989.940"
      ]
     },
     "metadata": {},
     "output_type": "display_data"
    }
   ],
   "source": [
    "mul = div * sm2\n",
    "mul"
   ]
  },
  {
   "cell_type": "code",
   "execution_count": null,
   "metadata": {
    "collapsed": true
   },
   "outputs": [],
   "source": []
  }
 ],
 "metadata": {
  "kernelspec": {
   "display_name": "R",
   "language": "R",
   "name": "ir"
  },
  "language_info": {
   "codemirror_mode": "r",
   "file_extension": ".r",
   "mimetype": "text/x-r-source",
   "name": "R",
   "pygments_lexer": "r",
   "version": "3.4.2"
  }
 },
 "nbformat": 4,
 "nbformat_minor": 2
}
